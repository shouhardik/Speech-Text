{
 "cells": [
  {
   "cell_type": "code",
   "execution_count": 1,
   "metadata": {},
   "outputs": [],
   "source": [
    "import speech_recognition as sr"
   ]
  },
  {
   "cell_type": "code",
   "execution_count": 2,
   "metadata": {},
   "outputs": [],
   "source": [
    "r=sr.Recognizer()"
   ]
  },
  {
   "cell_type": "code",
   "execution_count": null,
   "metadata": {},
   "outputs": [
    {
     "name": "stdout",
     "output_type": "stream",
     "text": [
      "Speak...\n",
      "Speaker says: hello\n",
      "Speak...\n",
      "Speaker says: my name is Hardik Shah\n",
      "Speak...\n",
      "Speaker says: Sia\n",
      "Speak...\n",
      "Speaker says: ok\n",
      "Speak...\n",
      "Please say again!\n",
      "Speak...\n",
      "Please say again!\n",
      "Speak...\n",
      "Please say again!\n",
      "Speak...\n",
      "Speaker says: ok\n",
      "Speak...\n",
      "Please say again!\n",
      "Speak...\n",
      "Please say again!\n",
      "Speak...\n",
      "Please say again!\n",
      "Speak...\n",
      "Please say again!\n",
      "Speak...\n",
      "Please say again!\n",
      "Speak...\n",
      "Please say again!\n",
      "Speak...\n",
      "Please say again!\n",
      "Speak...\n",
      "Speaker says: first open your teeth like this\n",
      "Speak...\n",
      "Speaker says: beautiful\n",
      "Speak...\n"
     ]
    }
   ],
   "source": [
    "while True:\n",
    "    with sr.Microphone(device_index = 0) as source:               \n",
    "        r.adjust_for_ambient_noise(source, duration = 1)\n",
    "        print(\"Speak...\")\n",
    "        audio = r.listen(source)\n",
    "        try:\n",
    "            text=r.recognize_google(audio)\n",
    "            print(\"Speaker says:\",text)\n",
    "        except:\n",
    "            print(\"Please say again!\")\n",
    "            "
   ]
  },
  {
   "cell_type": "code",
   "execution_count": null,
   "metadata": {},
   "outputs": [],
   "source": []
  },
  {
   "cell_type": "code",
   "execution_count": null,
   "metadata": {},
   "outputs": [],
   "source": []
  }
 ],
 "metadata": {
  "kernelspec": {
   "display_name": "Python 3",
   "language": "python",
   "name": "python3"
  },
  "language_info": {
   "codemirror_mode": {
    "name": "ipython",
    "version": 3
   },
   "file_extension": ".py",
   "mimetype": "text/x-python",
   "name": "python",
   "nbconvert_exporter": "python",
   "pygments_lexer": "ipython3",
   "version": "3.8.1"
  }
 },
 "nbformat": 4,
 "nbformat_minor": 4
}
